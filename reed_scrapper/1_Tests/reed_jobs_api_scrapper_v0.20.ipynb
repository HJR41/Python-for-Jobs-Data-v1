{
 "cells": [
  {
   "cell_type": "code",
   "execution_count": 75,
   "metadata": {},
   "outputs": [
    {
     "data": {
      "text/plain": [
       "True"
      ]
     },
     "execution_count": 75,
     "metadata": {},
     "output_type": "execute_result"
    }
   ],
   "source": [
    "# Import multiple librarys for Data request and cleanup\n",
    "\n",
    "import requests # this library handles http requests... for eg API GET requests.\n",
    "import os # enables me to retrieve api key from another file\n",
    "from dotenv import load_dotenv # allows me to access env file with api key\n",
    "import pandas as pd # for all things pandas\n",
    "from geopy.geocoders import Nominatim # to clean up location data\n",
    "import json # to parse json\n",
    "\n",
    "load_dotenv(\"store.env\") # loads data from env file\n"
   ]
  },
  {
   "cell_type": "code",
   "execution_count": 79,
   "metadata": {},
   "outputs": [
    {
     "data": {
      "text/plain": [
       "'https://www.reed.co.uk/api/1.0/search?keywords=[planner]&locationName=[unitedkingdom]&resultsToTake=100&resultsToSkip=2000'"
      ]
     },
     "execution_count": 79,
     "metadata": {},
     "output_type": "execute_result"
    }
   ],
   "source": [
    "# Parameters to hit:\n",
    "keywords = \"keywords=[planner]\" # edit in square brackets (unsure at the moment if it's possible to search multiple parameters)\n",
    "locationName = \"locationName=[unitedkingdom]\"\n",
    "resultsToTake = f\"resultsToTake={take}\"\n",
    "resultsToSkip = f\"resultsToSkip={skip}\" \n",
    "skip = 0 # skip & take will be used in a loop to process all pages of searched values\n",
    "take = 100\n",
    "reed_api_key = os.getenv(\"reed_api_key\") # retrieves reed_api_key from .env file. This means i don't need to hard code my API key into script for improved security.\n",
    "base_url = f\"https://www.reed.co.uk/api/1.0/search?{keywords}&{locationName}&{resultsToTake}&{resultsToSkip}\" # base url for api request\n",
    "base_url"
   ]
  },
  {
   "cell_type": "code",
   "execution_count": 77,
   "metadata": {},
   "outputs": [],
   "source": [
    "response = requests.get(base_url, auth=(reed_api_key, ''))\n",
    "sample_data = [] # enables me to get the total_results\n",
    "\n",
    "if response.status_code == 200:\n",
    "    # print(f\"Response Success {response.status_code}\")\n",
    "    sample_data = response.json()\n",
    "    total_results = (reed_data[\"totalResults\"])\n",
    "    skip = skip + 100\n",
    "\n",
    "else:\n",
    "    print(f\"unsuccessful = {response.status_code}\")"
   ]
  },
  {
   "cell_type": "code",
   "execution_count": null,
   "metadata": {},
   "outputs": [
    {
     "name": "stdout",
     "output_type": "stream",
     "text": [
      "----\n",
      "requesting https://www.reed.co.uk/api/1.0/search?keywords=[planner]&locationName=[unitedkingdom]&resultsToTake=100&resultsToSkip=2000\n",
      "----\n",
      "requesting https://www.reed.co.uk/api/1.0/search?keywords=[planner]&locationName=[unitedkingdom]&resultsToTake=100&resultsToSkip=2000\n",
      "----\n",
      "requesting https://www.reed.co.uk/api/1.0/search?keywords=[planner]&locationName=[unitedkingdom]&resultsToTake=100&resultsToSkip=2000\n",
      "----\n",
      "requesting https://www.reed.co.uk/api/1.0/search?keywords=[planner]&locationName=[unitedkingdom]&resultsToTake=100&resultsToSkip=2000\n",
      "----\n",
      "requesting https://www.reed.co.uk/api/1.0/search?keywords=[planner]&locationName=[unitedkingdom]&resultsToTake=100&resultsToSkip=2000\n",
      "----\n",
      "requesting https://www.reed.co.uk/api/1.0/search?keywords=[planner]&locationName=[unitedkingdom]&resultsToTake=100&resultsToSkip=2000\n",
      "----\n",
      "requesting https://www.reed.co.uk/api/1.0/search?keywords=[planner]&locationName=[unitedkingdom]&resultsToTake=100&resultsToSkip=2000\n",
      "----\n",
      "requesting https://www.reed.co.uk/api/1.0/search?keywords=[planner]&locationName=[unitedkingdom]&resultsToTake=100&resultsToSkip=2000\n",
      "----\n",
      "requesting https://www.reed.co.uk/api/1.0/search?keywords=[planner]&locationName=[unitedkingdom]&resultsToTake=100&resultsToSkip=2000\n",
      "----\n",
      "requesting https://www.reed.co.uk/api/1.0/search?keywords=[planner]&locationName=[unitedkingdom]&resultsToTake=100&resultsToSkip=2000\n",
      "----\n",
      "requesting https://www.reed.co.uk/api/1.0/search?keywords=[planner]&locationName=[unitedkingdom]&resultsToTake=100&resultsToSkip=2000\n",
      "----\n",
      "requesting https://www.reed.co.uk/api/1.0/search?keywords=[planner]&locationName=[unitedkingdom]&resultsToTake=100&resultsToSkip=2000\n",
      "----\n",
      "requesting https://www.reed.co.uk/api/1.0/search?keywords=[planner]&locationName=[unitedkingdom]&resultsToTake=100&resultsToSkip=2000\n",
      "----\n",
      "requesting https://www.reed.co.uk/api/1.0/search?keywords=[planner]&locationName=[unitedkingdom]&resultsToTake=100&resultsToSkip=2000\n",
      "----\n",
      "requesting https://www.reed.co.uk/api/1.0/search?keywords=[planner]&locationName=[unitedkingdom]&resultsToTake=100&resultsToSkip=2000\n",
      "----\n",
      "requesting https://www.reed.co.uk/api/1.0/search?keywords=[planner]&locationName=[unitedkingdom]&resultsToTake=100&resultsToSkip=2000\n",
      "----\n",
      "requesting https://www.reed.co.uk/api/1.0/search?keywords=[planner]&locationName=[unitedkingdom]&resultsToTake=100&resultsToSkip=2000\n",
      "----\n",
      "requesting https://www.reed.co.uk/api/1.0/search?keywords=[planner]&locationName=[unitedkingdom]&resultsToTake=100&resultsToSkip=2000\n",
      "----\n",
      "requesting https://www.reed.co.uk/api/1.0/search?keywords=[planner]&locationName=[unitedkingdom]&resultsToTake=100&resultsToSkip=2000\n"
     ]
    }
   ],
   "source": [
    "num_pages = (total_results + take - 1) // take\n",
    "\n",
    "for page_num in range(num_pages):\n",
    "    print(\"----\")\n",
    "    skip = skip + 100\n",
    "    base_url = f\"https://www.reed.co.uk/api/1.0/search?{keywords}&{locationName}&{resultsToTake}&{resultsToSkip}\"\n",
    "    print(\"requesting:\", base_url)"
   ]
  },
  {
   "cell_type": "code",
   "execution_count": null,
   "metadata": {},
   "outputs": [],
   "source": [
    "df = pd.DataFrame(reed_data[\"results\"])"
   ]
  },
  {
   "cell_type": "code",
   "execution_count": null,
   "metadata": {},
   "outputs": [],
   "source": []
  }
 ],
 "metadata": {
  "kernelspec": {
   "display_name": "jobs_data",
   "language": "python",
   "name": "python3"
  },
  "language_info": {
   "codemirror_mode": {
    "name": "ipython",
    "version": 3
   },
   "file_extension": ".py",
   "mimetype": "text/x-python",
   "name": "python",
   "nbconvert_exporter": "python",
   "pygments_lexer": "ipython3",
   "version": "3.11.11"
  }
 },
 "nbformat": 4,
 "nbformat_minor": 2
}
